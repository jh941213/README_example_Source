{
  "nbformat": 4,
  "nbformat_minor": 0,
  "metadata": {
    "colab": {
      "provenance": [],
      "collapsed_sections": [],
      "authorship_tag": "ABX9TyMs1Gpb/6gZYAnO0lARBPH3",
      "include_colab_link": true
    },
    "kernelspec": {
      "name": "python3",
      "display_name": "Python 3"
    },
    "language_info": {
      "name": "python"
    }
  },
  "cells": [
    {
      "cell_type": "markdown",
      "metadata": {
        "id": "view-in-github",
        "colab_type": "text"
      },
      "source": [
        "<a href=\"https://colab.research.google.com/github/jh941213/README_example_Source/blob/main/%EC%9B%B9%ED%81%AC%EB%A1%A4%EB%A7%81(1).ipynb\" target=\"_parent\"><img src=\"https://colab.research.google.com/assets/colab-badge.svg\" alt=\"Open In Colab\"/></a>"
      ]
    },
    {
      "cell_type": "code",
      "source": [
        "#requests , BeautifulSoup import\n",
        "import requests\n",
        "from bs4 import BeautifulSoup"
      ],
      "metadata": {
        "id": "f3_jL831Gktq"
      },
      "execution_count": null,
      "outputs": []
    },
    {
      "cell_type": "code",
      "source": [
        "#1단계 : get\n",
        "url = \"https://search.naver.com/search.naver?where=news&sm=tab_jum&query=%EC%BD%94%EB%A1%9C%EB%82%98\"\n",
        "\n",
        "resp = requests.get(url)\n",
        "resp"
      ],
      "metadata": {
        "colab": {
          "base_uri": "https://localhost:8080/"
        },
        "id": "V7Xlwrq3nl8l",
        "outputId": "54860da4-a788-441d-953b-08b760fe723a"
      },
      "execution_count": null,
      "outputs": [
        {
          "output_type": "execute_result",
          "data": {
            "text/plain": [
              "<Response [200]>"
            ]
          },
          "metadata": {},
          "execution_count": 3
        }
      ]
    },
    {
      "cell_type": "markdown",
      "source": [
        "response 200 이란?\n",
        " - 응답코드 : 클라이언트가 서버에 정보 요청을 했을 때 , 정보제공 여부에 대한 신호\n",
        " - 응답코드 : 웹페이지정보 획득 성공여부\n",
        " - 200 : 성공\n",
        " - 404 : 실패\n",
        " - 응답코드는 1xx, 2xx, 3xx, 4xx, 5xx 등 수십가지\n",
        " - 2개만 외우자 200(성공), 404(실패)"
      ],
      "metadata": {
        "id": "zFca18SooCWL"
      }
    },
    {
      "cell_type": "code",
      "source": [
        "html = resp.content #resp.content 를 html 에 집어 넣는다"
      ],
      "metadata": {
        "id": "yuldNacgoAoz"
      },
      "execution_count": null,
      "outputs": []
    },
    {
      "cell_type": "code",
      "source": [
        "# 2단계 : select\n",
        "## html -> beautifulSoup 형태로 변환해줘야 함.\n",
        "#뷰티풀 숲 형으로 형변환을 해준다.\n",
        "soup = BeautifulSoup(html, 'lxml') #lxml은 구문해석 파서이다.\n",
        "tags = soup.select('div.news_area a') #클래스란 속성이 news_area div 태그 , div안에 있는 a태그\n",
        "type(tags), len(tags) #"
      ],
      "metadata": {
        "colab": {
          "base_uri": "https://localhost:8080/"
        },
        "id": "v4Nawowgp9Yh",
        "outputId": "be3260e8-aa4e-486a-8d99-0fa3da081915"
      },
      "execution_count": null,
      "outputs": [
        {
          "output_type": "execute_result",
          "data": {
            "text/plain": [
              "(list, 70)"
            ]
          },
          "metadata": {},
          "execution_count": 6
        }
      ]
    },
    {
      "cell_type": "code",
      "source": [
        "import requests\n",
        "from bs4 import BeautifulSoup\n",
        "#덕배란 뉴스 기사 타이틀 가져오기\n",
        "#1단계\n",
        "#url 변수에 url 주소 넣기\n",
        "url = \"https://search.naver.com/search.naver?sm=tab_hty.top&where=news&query=%EB%8D%95%EB%B0%B0&oquery=%EC%BD%94%EB%A1%9C%EB%82%98&tqi=h1o4%2Fwp0Yidssj%2B6gZNssssstFo-210369\"\n",
        "#resp 에 get 시켜주기\n",
        "resp = requests.get(url) \n",
        "resp #실행해서 200 이 나오면 정상적으로 가져옴\n"
      ],
      "metadata": {
        "colab": {
          "base_uri": "https://localhost:8080/"
        },
        "id": "SKpHAW8Fqm4G",
        "outputId": "3aa73768-7df8-4e81-898a-2d911e10aa60"
      },
      "execution_count": null,
      "outputs": [
        {
          "output_type": "execute_result",
          "data": {
            "text/plain": [
              "<Response [200]>"
            ]
          },
          "metadata": {},
          "execution_count": 7
        }
      ]
    },
    {
      "cell_type": "code",
      "source": [
        "#2단계\n",
        "soup = BeautifulSoup(resp.content, 'lxml') #text <-> resp.content (글자) <-> (바이너리)\n",
        "tags = soup.select('a.news_tit') # class가 news_tit인 a태그 \n",
        "len(tags)"
      ],
      "metadata": {
        "colab": {
          "base_uri": "https://localhost:8080/"
        },
        "id": "GjOl1xSUtWew",
        "outputId": "9235d97f-8b43-4508-f49e-b819cc7914d5"
      },
      "execution_count": null,
      "outputs": [
        {
          "output_type": "execute_result",
          "data": {
            "text/plain": [
              "10"
            ]
          },
          "metadata": {},
          "execution_count": 14
        }
      ]
    }
  ]
}